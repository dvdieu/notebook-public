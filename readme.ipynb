{
 "cells": [
  {
   "cell_type": "code",
   "execution_count": null,
   "metadata": {},
   "outputs": [],
   "source": [
    "# INSTALL STABLE DIFFUSION\n",
    "WINDOWS\n",
    "https://www.python.org/ftp/python/3.10.6/python-3.10.6-amd64.exe\n",
    "https://github.com/git-for-windows/git/releases/download/v2.43.0.windows.1/Git-2.43.0-64-bit.exe\n",
    "git clone https://github.com/AUTOMATIC1111/stable-diffusion-webui.git\n",
    "#FIX WINDOWS PYTHON\n",
    "#PowerShell\n",
    "Remove-Item $env:USERPROFILE\\AppData\\Local\\Microsoft\\WindowsApps\\python*.exe\n"
   ]
  }
 ],
 "metadata": {
  "language_info": {
   "name": "python"
  }
 },
 "nbformat": 4,
 "nbformat_minor": 2
}
